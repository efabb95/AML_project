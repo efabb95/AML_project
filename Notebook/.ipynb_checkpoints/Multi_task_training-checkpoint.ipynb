{
 "cells": [
  {
   "cell_type": "code",
   "execution_count": 0,
   "metadata": {
    "colab": {},
    "colab_type": "code",
    "id": "jaV1_sBY-rOL"
   },
   "outputs": [],
   "source": [
    "import numpy as np \n",
    "import pandas as pd \n",
    "from sklearn import model_selection\n",
    "from sklearn.preprocessing import LabelBinarizer\n",
    "import keras\n",
    "from keras import Model\n",
    "from sklearn.model_selection import train_test_split\n",
    "from keras.utils import to_categorical\n",
    "from keras.models import Sequential\n",
    "from keras.layers import Dense, Flatten, Dropout, Input,GlobalAveragePooling2D\n",
    "from keras.applications.vgg16 import VGG16\n",
    "from keras.callbacks import EarlyStopping\n",
    "from keras.optimizers import Adam, SGD,RMSprop\n",
    "import matplotlib.pyplot as plt\n",
    "from keras.applications.vgg19 import VGG19\n",
    "from keras.applications.vgg19 import preprocess_input\n",
    "from keras.applications.inception_v3 import InceptionV3\n",
    "from keras.applications.inception_v3 import preprocess_input\n",
    "from keras.preprocessing import image\n",
    "from keras.preprocessing.image import ImageDataGenerator\n",
    "from keras.preprocessing.image import img_to_array\n",
    "import cv2\n",
    "from PIL import Image\n",
    "import glob\n",
    "from random import randrange\n"
   ]
  },
  {
   "cell_type": "code",
   "execution_count": 32,
   "metadata": {
    "colab": {
     "base_uri": "https://localhost:8080/",
     "height": 35
    },
    "colab_type": "code",
    "id": "n07qW_Au-xrG",
    "outputId": "b954fef7-b80d-40fa-ce38-d5b1e4795e97"
   },
   "outputs": [
    {
     "name": "stdout",
     "output_type": "stream",
     "text": [
      "Drive already mounted at /content/drive; to attempt to forcibly remount, call drive.mount(\"/content/drive\", force_remount=True).\n"
     ]
    }
   ],
   "source": [
    "#Connessione a Google Drive, rende possibile accedere a file e cartelle contenuti in 'Il mio Drive' \n",
    "#Eseguire solo se i dataset sono salvati non in locale ma in Google drive\n",
    "\n",
    "from google.colab import drive\n",
    "drive.mount('/content/drive')"
   ]
  },
  {
   "cell_type": "markdown",
   "metadata": {
    "colab_type": "text",
    "id": "9lsCvuWqZ633"
   },
   "source": [
    "# Preparazione dati"
   ]
  },
  {
   "cell_type": "code",
   "execution_count": 0,
   "metadata": {
    "colab": {},
    "colab_type": "code",
    "id": "g-4_6xHfvPHD"
   },
   "outputs": [],
   "source": [
    "#csv contenente tutt le immagini di train e le label, single o multi, associate\n",
    "data = pd.read_csv('../CSV_dataset/train_multitask.csv')"
   ]
  },
  {
   "cell_type": "code",
   "execution_count": 0,
   "metadata": {
    "colab": {},
    "colab_type": "code",
    "id": "-UVe8C0HAthV"
   },
   "outputs": [],
   "source": [
    "x = data['image']\n",
    "y = data[['aeroplane','bicycle','bird','boat','bottle','bus','car','cat','chair',\n",
    "                             'cow','diningtable','dog','horse','motorbike','person','pottedplant',\n",
    "                             'sheep','sofa','train','tvmonitor']]\n",
    "\n",
    "X_train, X_test, y_train, y_test = train_test_split(x, y, test_size=0.30, random_state=42)"
   ]
  },
  {
   "cell_type": "code",
   "execution_count": 0,
   "metadata": {
    "colab": {},
    "colab_type": "code",
    "id": "TnoQ2O4yEfFC"
   },
   "outputs": [],
   "source": [
    "X_train = X_train.values.tolist()\n",
    "X_test = X_test.values.tolist()\n",
    "\n",
    "labels_train_list = list()\n",
    "len_train_list = list()\n",
    "\n",
    "labels = ['aeroplane','bicycle','bird','boat','bottle','bus','car','cat','chair',\n",
    "                             'cow','diningtable','dog','horse','motorbike','person','pottedplant',\n",
    "                             'sheep','sofa','train','tvmonitor']\n",
    "\n",
    "#creazione di liste di array contenenti le label delle immagini di training e validation\n",
    "\n",
    "for lb in labels:\n",
    "  lb_train = y_train[lb]\n",
    "  len_train_list.append(1)\n",
    "  lb_train = lb_train.values.tolist()\n",
    "  labels_train_list.append(lb_train)\n",
    "  \n",
    "labels_test_list = list()\n",
    "len_test_list = list()\n",
    "  \n",
    "for lb in labels:\n",
    "  lb_test = y_test[lb]\n",
    "  len_test_list.append(1)\n",
    "  lb_test = lb_test.values.tolist()\n",
    "  labels_test_list.append(lb_test)\n",
    "  \n",
    "  \n",
    "train_list = list()\n",
    "train_list.append(X_train)\n",
    "for i in range(20):\n",
    "  train_list.append(labels_train_list[i])\n",
    "  \n",
    "test_list = list()\n",
    "test_list.append(X_test)\n",
    "for i in range(20):\n",
    "  test_list.append(labels_test_list[i])\n"
   ]
  },
  {
   "cell_type": "code",
   "execution_count": 0,
   "metadata": {
    "colab": {},
    "colab_type": "code",
    "id": "TOyKDeCGLoD1"
   },
   "outputs": [],
   "source": [
    "#custom generator che data una lista conentente il nome delle immagini e le corrispondenti label crea dei batch di dimensione 'bs' \n",
    "#per ogni iterazione compiuta durante la fase di addestramento del modello\n",
    "\n",
    "def build_generator(li, bs):\n",
    "  \n",
    "  while True:\n",
    "  \n",
    "    images = []\n",
    "    labels_list = list()\n",
    "    for i in range(20):\n",
    "      labels_list.append(list())\n",
    "\n",
    "    while len(images)<bs:\n",
    "\n",
    "      random_i = randrange(len(li[0]))\n",
    "      img = image.load_img('/content/drive/My Drive/train_multitask/'+li[0][random_i],target_size=(224, 224))\n",
    "      img = image.img_to_array(img)\n",
    "      images.append(img)\n",
    "\n",
    "      for i in range(1,21):\n",
    "        labels_list[i-1].append(np.array(li[i][random_i]))\n",
    "\n",
    "    labels = list()\n",
    "    for i in range (20):\n",
    "      labels.append(np.array(labels_list[i]))\n",
    "      \n",
    "    yield np.array(images), labels\n",
    "    "
   ]
  },
  {
   "cell_type": "code",
   "execution_count": 0,
   "metadata": {
    "colab": {},
    "colab_type": "code",
    "id": "5EsBH63hHwld"
   },
   "outputs": [],
   "source": [
    "#BS -> batch size\n",
    "BS = 10\n",
    "\n",
    "train_gen = build_generator(train_list, BS)\n",
    "test_gen = build_generator(test_list, BS)"
   ]
  },
  {
   "cell_type": "code",
   "execution_count": 0,
   "metadata": {
    "colab": {},
    "colab_type": "code",
    "id": "hXo9ArOnQAQe"
   },
   "outputs": [],
   "source": [
    "#per ciascun task viene associata come funzione di loss 'binary_crossentropy' e come metrica da monitorare l'accuratezza\n",
    "loss_list = ['binary_crossentropy']*20\n",
    "metrics_dict = {'aer':'accuracy', 'bic':'accuracy', 'bir':'accuracy', 'boa':'accuracy', 'bot':'accuracy', \n",
    "          'bus':'accuracy', 'car':'accuracy', 'cat':'accuracy', 'cha':'accuracy', 'cow':'accuracy',\n",
    "          'din':'accuracy', 'dog':'accuracy', 'hor':'accuracy', 'mot':'accuracy', 'per':'accuracy',\n",
    "          'pot':'accuracy', 'she':'accuracy', 'sof':'accuracy', 'tra':'accuracy', 'tvm':'accuracy',}"
   ]
  },
  {
   "cell_type": "code",
   "execution_count": 0,
   "metadata": {
    "colab": {},
    "colab_type": "code",
    "id": "Bqs2-0V--rPO"
   },
   "outputs": [],
   "source": [
    "#VGG19\n",
    "#Il modello utilizzato è basato sulla rete VGG19 pre-addestrata su dataset 'imagenet'.\n",
    "#E' stato eseguita un'operazione di fine-tuning rimuovendo il layer di output e aggiunto un layer Dense da 512 neuroni condiviso mentre ciascun .\n",
    "#task è composto da un layer Dense da 128 neuroni e da uno di output da 1 con funzione di attivazione sigmoide\n",
    "#Solo i layer aggiunti sono addestrabili.\n",
    "\n",
    "base_model = VGG19(include_top=True,weights='imagenet',input_shape=(224, 224, 3))\n",
    "base_model.layers.pop()\n",
    "for layer in base_model.layers:\n",
    "    layer.trainable = False\n",
    "    \n",
    "    \n",
    "x = Dense(512, activation = 'relu')(base_model.layers[-1].output)\n",
    "\n",
    "y1 = Dense(128, activation = 'relu')(x)\n",
    "y2 = Dense(128, activation = 'relu')(x)\n",
    "y3 = Dense(128, activation = 'relu')(x)\n",
    "y4 = Dense(128, activation = 'relu')(x)\n",
    "y5 = Dense(128, activation = 'relu')(x)\n",
    "y6 = Dense(128, activation = 'relu')(x)\n",
    "y7 = Dense(128, activation = 'relu')(x)\n",
    "y8 = Dense(128, activation = 'relu')(x)\n",
    "y9 = Dense(128, activation = 'relu')(x)\n",
    "y10 = Dense(128, activation = 'relu')(x)\n",
    "y11 = Dense(128, activation = 'relu')(x)\n",
    "y12 = Dense(128, activation = 'relu')(x)\n",
    "y13 = Dense(128, activation = 'relu')(x)\n",
    "y14 = Dense(128, activation = 'relu')(x)\n",
    "y15 = Dense(128, activation = 'relu')(x)\n",
    "y16 = Dense(128, activation = 'relu')(x)\n",
    "y17 = Dense(128, activation = 'relu')(x)\n",
    "y18 = Dense(128, activation = 'relu')(x)\n",
    "y19 = Dense(128, activation = 'relu')(x)\n",
    "y20 = Dense(128, activation = 'relu')(x)\n",
    "\n",
    "\n",
    "y1 = Dense(1, activation = 'sigmoid', name = 'aer')(y1)\n",
    "y2 = Dense(1, activation = 'sigmoid', name = 'bic')(y2)\n",
    "y3 = Dense(1, activation = 'sigmoid', name = 'bir')(y3)\n",
    "y4 = Dense(1, activation = 'sigmoid', name = 'boa')(y4)\n",
    "y5 = Dense(1, activation = 'sigmoid', name = 'bot')(y5)\n",
    "y6 = Dense(1, activation = 'sigmoid', name = 'bus')(y6)\n",
    "y7 = Dense(1, activation = 'sigmoid', name = 'car')(y7)\n",
    "y8 = Dense(1, activation = 'sigmoid', name = 'cat')(y8)\n",
    "y9 = Dense(1, activation = 'sigmoid', name = 'cha')(y9)\n",
    "y10 = Dense(1, activation = 'sigmoid', name = 'cow')(y10)\n",
    "y11 = Dense(1, activation = 'sigmoid', name = 'din')(y11)\n",
    "y12 = Dense(1, activation = 'sigmoid', name = 'dog')(y12)\n",
    "y13 = Dense(1, activation = 'sigmoid', name = 'hor')(y13)\n",
    "y14 = Dense(1, activation = 'sigmoid', name = 'mot')(y14)\n",
    "y15 = Dense(1, activation = 'sigmoid', name = 'per')(y15)\n",
    "y16 = Dense(1, activation = 'sigmoid', name = 'pot')(y16)\n",
    "y17 = Dense(1, activation = 'sigmoid', name = 'she')(y17)\n",
    "y18 = Dense(1, activation = 'sigmoid', name = 'sof')(y18)\n",
    "y19 = Dense(1, activation = 'sigmoid', name = 'tra')(y18)\n",
    "y20 = Dense(1, activation = 'sigmoid', name = 'tvm')(y20)\n",
    "\n",
    "\n",
    "\n",
    "model = Model(inputs = base_model.inputs, outputs=[y1, y2, y3, y4, y5, y6, y7, y8, y9, y10, y11, y12, y13, y14, y15, y16, y17, y18, y19, y20])\n",
    "\n",
    "model.compile(loss = loss_list,optimizer = Adam(lr=0.001), metrics=metrics_dict)\n",
    "                                                                        \n",
    "model.summary()"
   ]
  },
  {
   "cell_type": "code",
   "execution_count": 0,
   "metadata": {
    "colab": {
     "base_uri": "https://localhost:8080/",
     "height": 55
    },
    "colab_type": "code",
    "id": "42jBj4lcSov3",
    "outputId": "864690a3-3f58-45ec-cc68-618c8ebd2a77"
   },
   "outputs": [
    {
     "name": "stdout",
     "output_type": "stream",
     "text": [
      "['loss', 'aer_loss', 'bic_loss', 'bir_loss', 'boa_loss', 'bot_loss', 'bus_loss', 'car_loss', 'cat_loss', 'cha_loss', 'cow_loss', 'din_loss', 'dog_loss', 'hor_loss', 'mot_loss', 'per_loss', 'pot_loss', 'she_loss', 'sof_loss', 'tra_loss', 'tvm_loss', 'aer_acc', 'bic_acc', 'bir_acc', 'boa_acc', 'bot_acc', 'bus_acc', 'car_acc', 'cat_acc', 'cha_acc', 'cow_acc', 'din_acc', 'dog_acc', 'hor_acc', 'mot_acc', 'per_acc', 'pot_acc', 'she_acc', 'sof_acc', 'tra_acc', 'tvm_acc']\n"
     ]
    }
   ],
   "source": [
    "print(model.metrics_names)"
   ]
  },
  {
   "cell_type": "code",
   "execution_count": 0,
   "metadata": {
    "colab": {},
    "colab_type": "code",
    "id": "x21koZsj-rPU"
   },
   "outputs": [],
   "source": [
    "model.fit_generator(train_gen,\n",
    "                    steps_per_epoch=len(X_train) // BS,\n",
    "                    validation_data=test_gen,\n",
    "                    validation_steps=len(X_test) // BS,\n",
    "                    epochs=1)"
   ]
  },
  {
   "cell_type": "markdown",
   "metadata": {
    "colab_type": "text",
    "id": "prZWx6_ldQC_"
   },
   "source": [
    "# Salvataggio modello in Google Drive"
   ]
  },
  {
   "cell_type": "code",
   "execution_count": 0,
   "metadata": {
    "colab": {},
    "colab_type": "code",
    "id": "Xt8gqH4bvc24"
   },
   "outputs": [],
   "source": [
    "#Salvataggio modello in formato '.json'\n",
    "model_json = model.to_json()\n",
    "with open('model_VGG19_multi_task.json', 'w') as json_file:\n",
    "  json_file.write(model_json)"
   ]
  },
  {
   "cell_type": "code",
   "execution_count": 45,
   "metadata": {
    "colab": {
     "base_uri": "https://localhost:8080/",
     "height": 54
    },
    "colab_type": "code",
    "id": "jKaPgijTvhhJ",
    "outputId": "ab7f38a5-6a95-4c23-f73c-4ac77f7c8f68"
   },
   "outputs": [
    {
     "name": "stdout",
     "output_type": "stream",
     "text": [
      "\u001b[?25l\r",
      "\u001b[K     |▎                               | 10kB 14.7MB/s eta 0:00:01\r",
      "\u001b[K     |▋                               | 20kB 3.4MB/s eta 0:00:01\r",
      "\u001b[K     |█                               | 30kB 4.8MB/s eta 0:00:01\r",
      "\u001b[K     |█▎                              | 40kB 3.1MB/s eta 0:00:01\r",
      "\u001b[K     |█▋                              | 51kB 3.7MB/s eta 0:00:01\r",
      "\u001b[K     |██                              | 61kB 4.4MB/s eta 0:00:01\r",
      "\u001b[K     |██▎                             | 71kB 5.0MB/s eta 0:00:01\r",
      "\u001b[K     |██▋                             | 81kB 5.7MB/s eta 0:00:01\r",
      "\u001b[K     |███                             | 92kB 6.3MB/s eta 0:00:01\r",
      "\u001b[K     |███▎                            | 102kB 4.9MB/s eta 0:00:01\r",
      "\u001b[K     |███▋                            | 112kB 4.9MB/s eta 0:00:01\r",
      "\u001b[K     |████                            | 122kB 4.9MB/s eta 0:00:01\r",
      "\u001b[K     |████▎                           | 133kB 4.9MB/s eta 0:00:01\r",
      "\u001b[K     |████▋                           | 143kB 4.9MB/s eta 0:00:01\r",
      "\u001b[K     |█████                           | 153kB 4.9MB/s eta 0:00:01\r",
      "\u001b[K     |█████▎                          | 163kB 4.9MB/s eta 0:00:01\r",
      "\u001b[K     |█████▋                          | 174kB 4.9MB/s eta 0:00:01\r",
      "\u001b[K     |██████                          | 184kB 4.9MB/s eta 0:00:01\r",
      "\u001b[K     |██████▎                         | 194kB 4.9MB/s eta 0:00:01\r",
      "\u001b[K     |██████▋                         | 204kB 4.9MB/s eta 0:00:01\r",
      "\u001b[K     |███████                         | 215kB 4.9MB/s eta 0:00:01\r",
      "\u001b[K     |███████▎                        | 225kB 4.9MB/s eta 0:00:01\r",
      "\u001b[K     |███████▋                        | 235kB 4.9MB/s eta 0:00:01\r",
      "\u001b[K     |████████                        | 245kB 4.9MB/s eta 0:00:01\r",
      "\u001b[K     |████████▎                       | 256kB 4.9MB/s eta 0:00:01\r",
      "\u001b[K     |████████▋                       | 266kB 4.9MB/s eta 0:00:01\r",
      "\u001b[K     |█████████                       | 276kB 4.9MB/s eta 0:00:01\r",
      "\u001b[K     |█████████▎                      | 286kB 4.9MB/s eta 0:00:01\r",
      "\u001b[K     |█████████▋                      | 296kB 4.9MB/s eta 0:00:01\r",
      "\u001b[K     |██████████                      | 307kB 4.9MB/s eta 0:00:01\r",
      "\u001b[K     |██████████▎                     | 317kB 4.9MB/s eta 0:00:01\r",
      "\u001b[K     |██████████▋                     | 327kB 4.9MB/s eta 0:00:01\r",
      "\u001b[K     |███████████                     | 337kB 4.9MB/s eta 0:00:01\r",
      "\u001b[K     |███████████▎                    | 348kB 4.9MB/s eta 0:00:01\r",
      "\u001b[K     |███████████▋                    | 358kB 4.9MB/s eta 0:00:01\r",
      "\u001b[K     |████████████                    | 368kB 4.9MB/s eta 0:00:01\r",
      "\u001b[K     |████████████▎                   | 378kB 4.9MB/s eta 0:00:01\r",
      "\u001b[K     |████████████▋                   | 389kB 4.9MB/s eta 0:00:01\r",
      "\u001b[K     |█████████████                   | 399kB 4.9MB/s eta 0:00:01\r",
      "\u001b[K     |█████████████▎                  | 409kB 4.9MB/s eta 0:00:01\r",
      "\u001b[K     |█████████████▋                  | 419kB 4.9MB/s eta 0:00:01\r",
      "\u001b[K     |██████████████                  | 430kB 4.9MB/s eta 0:00:01\r",
      "\u001b[K     |██████████████▎                 | 440kB 4.9MB/s eta 0:00:01\r",
      "\u001b[K     |██████████████▋                 | 450kB 4.9MB/s eta 0:00:01\r",
      "\u001b[K     |███████████████                 | 460kB 4.9MB/s eta 0:00:01\r",
      "\u001b[K     |███████████████▎                | 471kB 4.9MB/s eta 0:00:01\r",
      "\u001b[K     |███████████████▋                | 481kB 4.9MB/s eta 0:00:01\r",
      "\u001b[K     |████████████████                | 491kB 4.9MB/s eta 0:00:01\r",
      "\u001b[K     |████████████████▎               | 501kB 4.9MB/s eta 0:00:01\r",
      "\u001b[K     |████████████████▋               | 512kB 4.9MB/s eta 0:00:01\r",
      "\u001b[K     |█████████████████               | 522kB 4.9MB/s eta 0:00:01\r",
      "\u001b[K     |█████████████████▎              | 532kB 4.9MB/s eta 0:00:01\r",
      "\u001b[K     |█████████████████▋              | 542kB 4.9MB/s eta 0:00:01\r",
      "\u001b[K     |██████████████████              | 552kB 4.9MB/s eta 0:00:01\r",
      "\u001b[K     |██████████████████▎             | 563kB 4.9MB/s eta 0:00:01\r",
      "\u001b[K     |██████████████████▋             | 573kB 4.9MB/s eta 0:00:01\r",
      "\u001b[K     |███████████████████             | 583kB 4.9MB/s eta 0:00:01\r",
      "\u001b[K     |███████████████████▎            | 593kB 4.9MB/s eta 0:00:01\r",
      "\u001b[K     |███████████████████▋            | 604kB 4.9MB/s eta 0:00:01\r",
      "\u001b[K     |████████████████████            | 614kB 4.9MB/s eta 0:00:01\r",
      "\u001b[K     |████████████████████▎           | 624kB 4.9MB/s eta 0:00:01\r",
      "\u001b[K     |████████████████████▋           | 634kB 4.9MB/s eta 0:00:01\r",
      "\u001b[K     |█████████████████████           | 645kB 4.9MB/s eta 0:00:01\r",
      "\u001b[K     |█████████████████████▎          | 655kB 4.9MB/s eta 0:00:01\r",
      "\u001b[K     |█████████████████████▋          | 665kB 4.9MB/s eta 0:00:01\r",
      "\u001b[K     |██████████████████████          | 675kB 4.9MB/s eta 0:00:01\r",
      "\u001b[K     |██████████████████████▎         | 686kB 4.9MB/s eta 0:00:01\r",
      "\u001b[K     |██████████████████████▋         | 696kB 4.9MB/s eta 0:00:01\r",
      "\u001b[K     |███████████████████████         | 706kB 4.9MB/s eta 0:00:01\r",
      "\u001b[K     |███████████████████████▎        | 716kB 4.9MB/s eta 0:00:01\r",
      "\u001b[K     |███████████████████████▋        | 727kB 4.9MB/s eta 0:00:01\r",
      "\u001b[K     |████████████████████████        | 737kB 4.9MB/s eta 0:00:01\r",
      "\u001b[K     |████████████████████████▎       | 747kB 4.9MB/s eta 0:00:01\r",
      "\u001b[K     |████████████████████████▋       | 757kB 4.9MB/s eta 0:00:01\r",
      "\u001b[K     |████████████████████████▉       | 768kB 4.9MB/s eta 0:00:01\r",
      "\u001b[K     |█████████████████████████▏      | 778kB 4.9MB/s eta 0:00:01\r",
      "\u001b[K     |█████████████████████████▌      | 788kB 4.9MB/s eta 0:00:01\r",
      "\u001b[K     |█████████████████████████▉      | 798kB 4.9MB/s eta 0:00:01\r",
      "\u001b[K     |██████████████████████████▏     | 808kB 4.9MB/s eta 0:00:01\r",
      "\u001b[K     |██████████████████████████▌     | 819kB 4.9MB/s eta 0:00:01\r",
      "\u001b[K     |██████████████████████████▉     | 829kB 4.9MB/s eta 0:00:01\r",
      "\u001b[K     |███████████████████████████▏    | 839kB 4.9MB/s eta 0:00:01\r",
      "\u001b[K     |███████████████████████████▌    | 849kB 4.9MB/s eta 0:00:01\r",
      "\u001b[K     |███████████████████████████▉    | 860kB 4.9MB/s eta 0:00:01\r",
      "\u001b[K     |████████████████████████████▏   | 870kB 4.9MB/s eta 0:00:01\r",
      "\u001b[K     |████████████████████████████▌   | 880kB 4.9MB/s eta 0:00:01\r",
      "\u001b[K     |████████████████████████████▉   | 890kB 4.9MB/s eta 0:00:01\r",
      "\u001b[K     |█████████████████████████████▏  | 901kB 4.9MB/s eta 0:00:01\r",
      "\u001b[K     |█████████████████████████████▌  | 911kB 4.9MB/s eta 0:00:01\r",
      "\u001b[K     |█████████████████████████████▉  | 921kB 4.9MB/s eta 0:00:01\r",
      "\u001b[K     |██████████████████████████████▏ | 931kB 4.9MB/s eta 0:00:01\r",
      "\u001b[K     |██████████████████████████████▌ | 942kB 4.9MB/s eta 0:00:01\r",
      "\u001b[K     |██████████████████████████████▉ | 952kB 4.9MB/s eta 0:00:01\r",
      "\u001b[K     |███████████████████████████████▏| 962kB 4.9MB/s eta 0:00:01\r",
      "\u001b[K     |███████████████████████████████▌| 972kB 4.9MB/s eta 0:00:01\r",
      "\u001b[K     |███████████████████████████████▉| 983kB 4.9MB/s eta 0:00:01\r",
      "\u001b[K     |████████████████████████████████| 993kB 4.9MB/s \n",
      "\u001b[?25h  Building wheel for PyDrive (setup.py) ... \u001b[?25l\u001b[?25hdone\n"
     ]
    }
   ],
   "source": [
    "#Connesione a Google Drive\n",
    "\n",
    "!pip install -U -q PyDrive\n",
    "from pydrive.auth import GoogleAuth\n",
    "from pydrive.drive import GoogleDrive\n",
    "from google.colab import auth\n",
    "from oauth2client.client import GoogleCredentials\n",
    "\n",
    "# 1. Authenticate and create the PyDrive client.\n",
    "auth.authenticate_user()\n",
    "gauth = GoogleAuth()\n",
    "gauth.credentials = GoogleCredentials.get_application_default()\n",
    "drive = GoogleDrive(gauth)"
   ]
  },
  {
   "cell_type": "code",
   "execution_count": 0,
   "metadata": {
    "colab": {},
    "colab_type": "code",
    "id": "CT7RILMfvjuj"
   },
   "outputs": [],
   "source": [
    "#Salvataggio su Google Drive\n",
    "model_name = 'weights_VGG19_multi_task.h5'\n",
    "model.save_weights(model_name)\n",
    "\n",
    "weights_file = drive.CreateFile({'title' : model_name})\n",
    "weights_file.SetContentFile(model_name)\n",
    "weights_file.Upload()\n",
    "drive.CreateFile({'id': weights_file.get('id')})"
   ]
  }
 ],
 "metadata": {
  "colab": {
   "collapsed_sections": [
    "prZWx6_ldQC_"
   ],
   "name": "Multi_task-training.ipynb",
   "provenance": [],
   "version": "0.3.2"
  },
  "kernelspec": {
   "display_name": "Python 3",
   "language": "python",
   "name": "python3"
  },
  "language_info": {
   "codemirror_mode": {
    "name": "ipython",
    "version": 3
   },
   "file_extension": ".py",
   "mimetype": "text/x-python",
   "name": "python",
   "nbconvert_exporter": "python",
   "pygments_lexer": "ipython3",
   "version": "3.6.6"
  }
 },
 "nbformat": 4,
 "nbformat_minor": 1
}
